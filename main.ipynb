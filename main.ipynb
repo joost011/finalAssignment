{
 "cells": [
  {
   "cell_type": "markdown",
   "id": "59e69565",
   "metadata": {},
   "source": [
    "# Title"
   ]
  },
  {
   "cell_type": "markdown",
   "id": "bdba63bd",
   "metadata": {},
   "source": [
    "Intro / research explenation <br>\n",
    "Link to datasets"
   ]
  },
  {
   "cell_type": "code",
   "execution_count": 8,
   "id": "a76e84f5",
   "metadata": {
    "scrolled": true
   },
   "outputs": [],
   "source": [
    "import yaml\n",
    "import pandas as pd"
   ]
  },
  {
   "cell_type": "markdown",
   "id": "b650befd",
   "metadata": {},
   "source": [
    "## Load files and create data frames"
   ]
  },
  {
   "cell_type": "code",
   "execution_count": 48,
   "id": "a6cc8f1b",
   "metadata": {},
   "outputs": [],
   "source": [
    "with open(\"config.yaml\", \"r\") as stream:\n",
    "    config_values = yaml.safe_load(stream)\n",
    "    temperature_path = config_values['temperature_data_path']\n",
    "    townships_path = config_values['townships_data_path']\n",
    "    mortality_path = config_values['mortality_data_path']\n",
    "    \n",
    "# Create data frames\n",
    "temperature_df = pd.read_csv(temperature_path, skiprows=11)\n",
    "townships_df = pd.read_excel(townships_path)\n",
    "mortality_df = pd.read_csv(mortality_path, sep=';')"
   ]
  },
  {
   "cell_type": "markdown",
   "id": "801376b9",
   "metadata": {},
   "source": [
    "## Inspect data"
   ]
  },
  {
   "cell_type": "code",
   "execution_count": null,
   "id": "3d448979",
   "metadata": {},
   "outputs": [],
   "source": []
  },
  {
   "cell_type": "markdown",
   "id": "73a00983",
   "metadata": {},
   "source": [
    "## Wrangle data"
   ]
  },
  {
   "cell_type": "code",
   "execution_count": null,
   "id": "dad6cb6c",
   "metadata": {},
   "outputs": [],
   "source": []
  },
  {
   "cell_type": "markdown",
   "id": "83519201",
   "metadata": {},
   "source": [
    "## Merge dataframes"
   ]
  },
  {
   "cell_type": "code",
   "execution_count": null,
   "id": "fadf0458",
   "metadata": {},
   "outputs": [],
   "source": []
  },
  {
   "cell_type": "markdown",
   "id": "865b7651",
   "metadata": {},
   "source": [
    "## Analyse data (create graphs, etc.)"
   ]
  },
  {
   "cell_type": "code",
   "execution_count": null,
   "id": "3d156783",
   "metadata": {},
   "outputs": [],
   "source": []
  },
  {
   "cell_type": "markdown",
   "id": "dbd0aba0",
   "metadata": {},
   "source": [
    "## Statistics"
   ]
  },
  {
   "cell_type": "markdown",
   "id": "975712dc",
   "metadata": {},
   "source": []
  }
 ],
 "metadata": {
  "kernelspec": {
   "display_name": "Python 3 (ipykernel)",
   "language": "python",
   "name": "python3"
  },
  "language_info": {
   "codemirror_mode": {
    "name": "ipython",
    "version": 3
   },
   "file_extension": ".py",
   "mimetype": "text/x-python",
   "name": "python",
   "nbconvert_exporter": "python",
   "pygments_lexer": "ipython3",
   "version": "3.8.0"
  }
 },
 "nbformat": 4,
 "nbformat_minor": 5
}
