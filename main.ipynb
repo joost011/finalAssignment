{
 "cells": [
  {
   "cell_type": "markdown",
   "id": "fca652f3",
   "metadata": {},
   "source": [
    "# Title"
   ]
  },
  {
   "cell_type": "markdown",
   "id": "70b919c0",
   "metadata": {},
   "source": [
    "Intro / research explenation <br>\n",
    "Link to datasets"
   ]
  },
  {
   "cell_type": "markdown",
   "id": "05bdf75a",
   "metadata": {},
   "source": [
    "## Load files"
   ]
  },
  {
   "cell_type": "code",
   "execution_count": null,
   "id": "6e6882cf",
   "metadata": {},
   "outputs": [],
   "source": []
  },
  {
   "cell_type": "markdown",
   "id": "1fa14a1b",
   "metadata": {},
   "source": [
    "## Inspect data"
   ]
  },
  {
   "cell_type": "code",
   "execution_count": null,
   "id": "324dacfd",
   "metadata": {},
   "outputs": [],
   "source": []
  },
  {
   "cell_type": "markdown",
   "id": "239a3206",
   "metadata": {},
   "source": [
    "## Wrangle data"
   ]
  },
  {
   "cell_type": "code",
   "execution_count": null,
   "id": "10f54d89",
   "metadata": {},
   "outputs": [],
   "source": []
  },
  {
   "cell_type": "markdown",
   "id": "fddf5746",
   "metadata": {},
   "source": [
    "## Merge dataframes"
   ]
  },
  {
   "cell_type": "code",
   "execution_count": null,
   "id": "dd171149",
   "metadata": {},
   "outputs": [],
   "source": []
  },
  {
   "cell_type": "markdown",
   "id": "4bba4ec8",
   "metadata": {},
   "source": [
    "## Analyse data (create graphs, etc.)"
   ]
  },
  {
   "cell_type": "code",
   "execution_count": null,
   "id": "b79260cc",
   "metadata": {},
   "outputs": [],
   "source": []
  }
 ],
 "metadata": {
  "kernelspec": {
   "display_name": "Python 3 (ipykernel)",
   "language": "python",
   "name": "python3"
  },
  "language_info": {
   "codemirror_mode": {
    "name": "ipython",
    "version": 3
   },
   "file_extension": ".py",
   "mimetype": "text/x-python",
   "name": "python",
   "nbconvert_exporter": "python",
   "pygments_lexer": "ipython3",
   "version": "3.8.0"
  }
 },
 "nbformat": 4,
 "nbformat_minor": 5
}
