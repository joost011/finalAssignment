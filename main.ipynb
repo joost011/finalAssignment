{
 "cells": [
  {
   "cell_type": "markdown",
   "id": "ada10111",
   "metadata": {},
   "source": [
    "# Title"
   ]
  },
  {
   "cell_type": "markdown",
   "id": "e06c642b",
   "metadata": {},
   "source": [
    "Intro / research explenation <br>\n",
    "Link to datasets"
   ]
  },
  {
   "cell_type": "code",
   "execution_count": 421,
   "id": "8e54f2cc",
   "metadata": {
    "scrolled": true
   },
   "outputs": [],
   "source": [
    "import yaml\n",
    "import re\n",
    "import pandas as pd"
   ]
  },
  {
   "cell_type": "markdown",
   "id": "cb2c952c",
   "metadata": {},
   "source": [
    "## 1. Load files and create data frames"
   ]
  },
  {
   "cell_type": "code",
   "execution_count": 422,
   "id": "5dbe1e7d",
   "metadata": {},
   "outputs": [],
   "source": [
    "with open(\"config.yaml\", \"r\") as stream:\n",
    "    config_values = yaml.safe_load(stream)\n",
    "    temperature_path = config_values['temperature_data_path']\n",
    "    townships_path = config_values['townships_data_path']\n",
    "    mortality_path = config_values['mortality_data_path']\n",
    "    weather_stations_coordinates = config_values['weather_stations_coordinates_path']\n",
    "    \n",
    "# Create data frames\n",
    "temperature_df = pd.read_csv(temperature_path, skiprows=11)\n",
    "townships_df = pd.read_excel(townships_path)\n",
    "mortality_df = pd.read_csv(mortality_path, sep=';')\n",
    "ws_coordinates_df = pd.read_excel(weather_stations_coordinates)"
   ]
  },
  {
   "cell_type": "markdown",
   "id": "a68188ca",
   "metadata": {},
   "source": [
    "## 2. Inspect data\n",
    "This sections handles the data inspection of the data frames."
   ]
  },
  {
   "cell_type": "markdown",
   "id": "1180b8ae",
   "metadata": {},
   "source": [
    "### Temperature"
   ]
  },
  {
   "cell_type": "code",
   "execution_count": 423,
   "id": "1bdcdefd",
   "metadata": {
    "scrolled": true
   },
   "outputs": [
    {
     "data": {
      "text/html": [
       "<div>\n",
       "<style scoped>\n",
       "    .dataframe tbody tr th:only-of-type {\n",
       "        vertical-align: middle;\n",
       "    }\n",
       "\n",
       "    .dataframe tbody tr th {\n",
       "        vertical-align: top;\n",
       "    }\n",
       "\n",
       "    .dataframe thead th {\n",
       "        text-align: right;\n",
       "    }\n",
       "</style>\n",
       "<table border=\"1\" class=\"dataframe\">\n",
       "  <thead>\n",
       "    <tr style=\"text-align: right;\">\n",
       "      <th></th>\n",
       "      <th>STN</th>\n",
       "      <th>YYYY</th>\n",
       "      <th>JAN</th>\n",
       "      <th>FEB</th>\n",
       "      <th>MAR</th>\n",
       "      <th>APR</th>\n",
       "      <th>MAY</th>\n",
       "      <th>JUN</th>\n",
       "      <th>JUL</th>\n",
       "      <th>AUG</th>\n",
       "      <th>SEP</th>\n",
       "      <th>OCT</th>\n",
       "      <th>NOV</th>\n",
       "      <th>DEC</th>\n",
       "      <th>YEAR</th>\n",
       "    </tr>\n",
       "  </thead>\n",
       "  <tbody>\n",
       "    <tr>\n",
       "      <th>0</th>\n",
       "      <td>235</td>\n",
       "      <td>1906</td>\n",
       "      <td>40</td>\n",
       "      <td>29</td>\n",
       "      <td>38</td>\n",
       "      <td>68</td>\n",
       "      <td>110</td>\n",
       "      <td>129</td>\n",
       "      <td>162</td>\n",
       "      <td>170</td>\n",
       "      <td>151</td>\n",
       "      <td>123</td>\n",
       "      <td>87</td>\n",
       "      <td>21</td>\n",
       "      <td>94</td>\n",
       "    </tr>\n",
       "    <tr>\n",
       "      <th>1</th>\n",
       "      <td>235</td>\n",
       "      <td>1907</td>\n",
       "      <td>26</td>\n",
       "      <td>8</td>\n",
       "      <td>45</td>\n",
       "      <td>73</td>\n",
       "      <td>116</td>\n",
       "      <td>132</td>\n",
       "      <td>137</td>\n",
       "      <td>150</td>\n",
       "      <td>140</td>\n",
       "      <td>115</td>\n",
       "      <td>69</td>\n",
       "      <td>42</td>\n",
       "      <td>88</td>\n",
       "    </tr>\n",
       "    <tr>\n",
       "      <th>2</th>\n",
       "      <td>235</td>\n",
       "      <td>1908</td>\n",
       "      <td>0</td>\n",
       "      <td>36</td>\n",
       "      <td>31</td>\n",
       "      <td>55</td>\n",
       "      <td>114</td>\n",
       "      <td>145</td>\n",
       "      <td>160</td>\n",
       "      <td>152</td>\n",
       "      <td>136</td>\n",
       "      <td>101</td>\n",
       "      <td>51</td>\n",
       "      <td>19</td>\n",
       "      <td>83</td>\n",
       "    </tr>\n",
       "    <tr>\n",
       "      <th>3</th>\n",
       "      <td>235</td>\n",
       "      <td>1909</td>\n",
       "      <td>17</td>\n",
       "      <td>6</td>\n",
       "      <td>16</td>\n",
       "      <td>71</td>\n",
       "      <td>101</td>\n",
       "      <td>120</td>\n",
       "      <td>139</td>\n",
       "      <td>150</td>\n",
       "      <td>129</td>\n",
       "      <td>112</td>\n",
       "      <td>60</td>\n",
       "      <td>33</td>\n",
       "      <td>80</td>\n",
       "    </tr>\n",
       "    <tr>\n",
       "      <th>4</th>\n",
       "      <td>235</td>\n",
       "      <td>1910</td>\n",
       "      <td>39</td>\n",
       "      <td>39</td>\n",
       "      <td>49</td>\n",
       "      <td>72</td>\n",
       "      <td>112</td>\n",
       "      <td>153</td>\n",
       "      <td>144</td>\n",
       "      <td>159</td>\n",
       "      <td>136</td>\n",
       "      <td>103</td>\n",
       "      <td>44</td>\n",
       "      <td>55</td>\n",
       "      <td>92</td>\n",
       "    </tr>\n",
       "  </tbody>\n",
       "</table>\n",
       "</div>"
      ],
      "text/plain": [
       "   STN  YYYY     JAN     FEB     MAR     APR     MAY     JUN     JUL     AUG  \\\n",
       "0  235  1906      40      29      38      68     110     129     162     170   \n",
       "1  235  1907      26       8      45      73     116     132     137     150   \n",
       "2  235  1908       0      36      31      55     114     145     160     152   \n",
       "3  235  1909      17       6      16      71     101     120     139     150   \n",
       "4  235  1910      39      39      49      72     112     153     144     159   \n",
       "\n",
       "      SEP     OCT     NOV     DEC    YEAR  \n",
       "0     151     123      87      21      94  \n",
       "1     140     115      69      42      88  \n",
       "2     136     101      51      19      83  \n",
       "3     129     112      60      33      80  \n",
       "4     136     103      44      55      92  "
      ]
     },
     "execution_count": 423,
     "metadata": {},
     "output_type": "execute_result"
    }
   ],
   "source": [
    "temperature_df.head()"
   ]
  },
  {
   "cell_type": "code",
   "execution_count": 424,
   "id": "7ef36534",
   "metadata": {},
   "outputs": [
    {
     "name": "stdout",
     "output_type": "stream",
     "text": [
      "<class 'pandas.core.frame.DataFrame'>\n",
      "RangeIndex: 944 entries, 0 to 943\n",
      "Data columns (total 15 columns):\n",
      " #   Column  Non-Null Count  Dtype \n",
      "---  ------  --------------  ----- \n",
      " 0   STN     944 non-null    int64 \n",
      " 1   YYYY    944 non-null    int64 \n",
      " 2      JAN  944 non-null    object\n",
      " 3      FEB  944 non-null    object\n",
      " 4      MAR  944 non-null    object\n",
      " 5      APR  944 non-null    object\n",
      " 6      MAY  944 non-null    object\n",
      " 7      JUN  944 non-null    object\n",
      " 8      JUL  944 non-null    object\n",
      " 9      AUG  944 non-null    int64 \n",
      " 10     SEP  944 non-null    object\n",
      " 11     OCT  944 non-null    object\n",
      " 12     NOV  944 non-null    object\n",
      " 13     DEC  944 non-null    object\n",
      " 14    YEAR  944 non-null    object\n",
      "dtypes: int64(3), object(12)\n",
      "memory usage: 110.8+ KB\n"
     ]
    }
   ],
   "source": [
    "temperature_df.info()"
   ]
  },
  {
   "cell_type": "markdown",
   "id": "c1f58727",
   "metadata": {},
   "source": [
    "The temperature data frame has a total of 944 entries. There are 15 columns. 12 of these columns are month columns (Jan - Dec). These column names contain leading spaces which should be removed. The remaining three columns are the station number, the year, and the year average. To get the real temperatures, the values need to be divided by 10. What stands out is that, regarding the temperature columns, only August has the correct data type. Also, the column names of the station number and the year could be a bit more descriptive, whereas the name of the year average column (which we don't need) is a little misleading. These issues will be fixed during the data wrangling."
   ]
  },
  {
   "cell_type": "code",
   "execution_count": 425,
   "id": "1d1bb0e3",
   "metadata": {},
   "outputs": [
    {
     "data": {
      "text/plain": [
       "STN       0\n",
       "YYYY      0\n",
       "   JAN    0\n",
       "   FEB    0\n",
       "   MAR    0\n",
       "   APR    0\n",
       "   MAY    0\n",
       "   JUN    0\n",
       "   JUL    0\n",
       "   AUG    0\n",
       "   SEP    0\n",
       "   OCT    0\n",
       "   NOV    0\n",
       "   DEC    0\n",
       "  YEAR    0\n",
       "dtype: int64"
      ]
     },
     "execution_count": 425,
     "metadata": {},
     "output_type": "execute_result"
    }
   ],
   "source": [
    "temperature_df.isna().sum()"
   ]
  },
  {
   "cell_type": "markdown",
   "id": "27dfe67b",
   "metadata": {},
   "source": [
    "The temperature data frame is not missing any data."
   ]
  },
  {
   "cell_type": "markdown",
   "id": "c442877d",
   "metadata": {},
   "source": [
    "### Townships"
   ]
  },
  {
   "cell_type": "code",
   "execution_count": 426,
   "id": "e2e6c710",
   "metadata": {},
   "outputs": [
    {
     "data": {
      "text/html": [
       "<div>\n",
       "<style scoped>\n",
       "    .dataframe tbody tr th:only-of-type {\n",
       "        vertical-align: middle;\n",
       "    }\n",
       "\n",
       "    .dataframe tbody tr th {\n",
       "        vertical-align: top;\n",
       "    }\n",
       "\n",
       "    .dataframe thead th {\n",
       "        text-align: right;\n",
       "    }\n",
       "</style>\n",
       "<table border=\"1\" class=\"dataframe\">\n",
       "  <thead>\n",
       "    <tr style=\"text-align: right;\">\n",
       "      <th></th>\n",
       "      <th>GM_CODE</th>\n",
       "      <th>GM_NAAM</th>\n",
       "      <th>geometry</th>\n",
       "    </tr>\n",
       "  </thead>\n",
       "  <tbody>\n",
       "    <tr>\n",
       "      <th>0</th>\n",
       "      <td>GM0003</td>\n",
       "      <td>Appingedam</td>\n",
       "      <td>&lt;Polygon&gt;&lt;outerBoundaryIs&gt;&lt;LinearRing&gt;&lt;coordin...</td>\n",
       "    </tr>\n",
       "    <tr>\n",
       "      <th>1</th>\n",
       "      <td>GM0005</td>\n",
       "      <td>Bedum</td>\n",
       "      <td>&lt;Polygon&gt;&lt;outerBoundaryIs&gt;&lt;LinearRing&gt;&lt;coordin...</td>\n",
       "    </tr>\n",
       "    <tr>\n",
       "      <th>2</th>\n",
       "      <td>GM0007</td>\n",
       "      <td>Bellingwedde</td>\n",
       "      <td>&lt;Polygon&gt;&lt;outerBoundaryIs&gt;&lt;LinearRing&gt;&lt;coordin...</td>\n",
       "    </tr>\n",
       "    <tr>\n",
       "      <th>3</th>\n",
       "      <td>GM0009</td>\n",
       "      <td>Ten Boer</td>\n",
       "      <td>&lt;Polygon&gt;&lt;outerBoundaryIs&gt;&lt;LinearRing&gt;&lt;coordin...</td>\n",
       "    </tr>\n",
       "    <tr>\n",
       "      <th>4</th>\n",
       "      <td>GM0010</td>\n",
       "      <td>Delfzijl</td>\n",
       "      <td>&lt;Polygon&gt;&lt;outerBoundaryIs&gt;&lt;LinearRing&gt;&lt;coordin...</td>\n",
       "    </tr>\n",
       "  </tbody>\n",
       "</table>\n",
       "</div>"
      ],
      "text/plain": [
       "  GM_CODE       GM_NAAM                                           geometry\n",
       "0  GM0003    Appingedam  <Polygon><outerBoundaryIs><LinearRing><coordin...\n",
       "1  GM0005         Bedum  <Polygon><outerBoundaryIs><LinearRing><coordin...\n",
       "2  GM0007  Bellingwedde  <Polygon><outerBoundaryIs><LinearRing><coordin...\n",
       "3  GM0009      Ten Boer  <Polygon><outerBoundaryIs><LinearRing><coordin...\n",
       "4  GM0010      Delfzijl  <Polygon><outerBoundaryIs><LinearRing><coordin..."
      ]
     },
     "execution_count": 426,
     "metadata": {},
     "output_type": "execute_result"
    }
   ],
   "source": [
    "townships_df.head()"
   ]
  },
  {
   "cell_type": "code",
   "execution_count": 427,
   "id": "2755f730",
   "metadata": {
    "scrolled": false
   },
   "outputs": [
    {
     "name": "stdout",
     "output_type": "stream",
     "text": [
      "<class 'pandas.core.frame.DataFrame'>\n",
      "RangeIndex: 431 entries, 0 to 430\n",
      "Data columns (total 3 columns):\n",
      " #   Column    Non-Null Count  Dtype \n",
      "---  ------    --------------  ----- \n",
      " 0   GM_CODE   431 non-null    object\n",
      " 1   GM_NAAM   431 non-null    object\n",
      " 2   geometry  431 non-null    object\n",
      "dtypes: object(3)\n",
      "memory usage: 10.2+ KB\n"
     ]
    }
   ],
   "source": [
    "townships_df.info()"
   ]
  },
  {
   "cell_type": "markdown",
   "id": "4f728152",
   "metadata": {},
   "source": [
    "The township data frame exists of 431 entries. There are only 3 columns: the township code (which match the codes in the mortality data), the township name and the geometry. The data types of the columns are good as they are. The geometry column contains data to create a polygon. However, in this research we don't need a complete polygon, but we need the center point (lat/lon) of the polygons. Furthermore, the column names could be a bit more descriptive. These issues will be fixed during the data wrangling part."
   ]
  },
  {
   "cell_type": "code",
   "execution_count": 428,
   "id": "aff13375",
   "metadata": {
    "scrolled": true
   },
   "outputs": [
    {
     "data": {
      "text/plain": [
       "GM_CODE     0\n",
       "GM_NAAM     0\n",
       "geometry    0\n",
       "dtype: int64"
      ]
     },
     "execution_count": 428,
     "metadata": {},
     "output_type": "execute_result"
    }
   ],
   "source": [
    "townships_df.isna().sum()"
   ]
  },
  {
   "cell_type": "markdown",
   "id": "682238c6",
   "metadata": {},
   "source": [
    "The township data frame is not missing any data."
   ]
  },
  {
   "cell_type": "markdown",
   "id": "6b0626b2",
   "metadata": {},
   "source": [
    "### Mortality"
   ]
  },
  {
   "cell_type": "code",
   "execution_count": 429,
   "id": "d3d66fc7",
   "metadata": {
    "scrolled": true
   },
   "outputs": [
    {
     "data": {
      "text/html": [
       "<div>\n",
       "<style scoped>\n",
       "    .dataframe tbody tr th:only-of-type {\n",
       "        vertical-align: middle;\n",
       "    }\n",
       "\n",
       "    .dataframe tbody tr th {\n",
       "        vertical-align: top;\n",
       "    }\n",
       "\n",
       "    .dataframe thead th {\n",
       "        text-align: right;\n",
       "    }\n",
       "</style>\n",
       "<table border=\"1\" class=\"dataframe\">\n",
       "  <thead>\n",
       "    <tr style=\"text-align: right;\">\n",
       "      <th></th>\n",
       "      <th>ID</th>\n",
       "      <th>RegioS</th>\n",
       "      <th>Perioden</th>\n",
       "      <th>Overledenen_3</th>\n",
       "    </tr>\n",
       "  </thead>\n",
       "  <tbody>\n",
       "    <tr>\n",
       "      <th>0</th>\n",
       "      <td>0</td>\n",
       "      <td>NL01</td>\n",
       "      <td>2002MM01</td>\n",
       "      <td>13469</td>\n",
       "    </tr>\n",
       "    <tr>\n",
       "      <th>1</th>\n",
       "      <td>1</td>\n",
       "      <td>NL01</td>\n",
       "      <td>2002MM02</td>\n",
       "      <td>11735</td>\n",
       "    </tr>\n",
       "    <tr>\n",
       "      <th>2</th>\n",
       "      <td>2</td>\n",
       "      <td>NL01</td>\n",
       "      <td>2002MM03</td>\n",
       "      <td>13281</td>\n",
       "    </tr>\n",
       "    <tr>\n",
       "      <th>3</th>\n",
       "      <td>3</td>\n",
       "      <td>NL01</td>\n",
       "      <td>2002MM04</td>\n",
       "      <td>11968</td>\n",
       "    </tr>\n",
       "    <tr>\n",
       "      <th>4</th>\n",
       "      <td>4</td>\n",
       "      <td>NL01</td>\n",
       "      <td>2002MM05</td>\n",
       "      <td>11623</td>\n",
       "    </tr>\n",
       "  </tbody>\n",
       "</table>\n",
       "</div>"
      ],
      "text/plain": [
       "   ID  RegioS  Perioden Overledenen_3\n",
       "0   0  NL01    2002MM01         13469\n",
       "1   1  NL01    2002MM02         11735\n",
       "2   2  NL01    2002MM03         13281\n",
       "3   3  NL01    2002MM04         11968\n",
       "4   4  NL01    2002MM05         11623"
      ]
     },
     "execution_count": 429,
     "metadata": {},
     "output_type": "execute_result"
    }
   ],
   "source": [
    "mortality_df.head()"
   ]
  },
  {
   "cell_type": "code",
   "execution_count": 430,
   "id": "b4b66d6b",
   "metadata": {
    "scrolled": true
   },
   "outputs": [
    {
     "name": "stdout",
     "output_type": "stream",
     "text": [
      "<class 'pandas.core.frame.DataFrame'>\n",
      "RangeIndex: 167076 entries, 0 to 167075\n",
      "Data columns (total 4 columns):\n",
      " #   Column         Non-Null Count   Dtype \n",
      "---  ------         --------------   ----- \n",
      " 0   ID             167076 non-null  int64 \n",
      " 1   RegioS         167076 non-null  object\n",
      " 2   Perioden       167076 non-null  object\n",
      " 3   Overledenen_3  129332 non-null  object\n",
      "dtypes: int64(1), object(3)\n",
      "memory usage: 5.1+ MB\n"
     ]
    }
   ],
   "source": [
    "mortality_df.info()"
   ]
  },
  {
   "cell_type": "markdown",
   "id": "d38a93ec",
   "metadata": {},
   "source": [
    "The mortality data frame exists of 167076 entries. There are 4 columns: an ID, a region code, a period and the number of deceased people. The ID column should be set as actual ID of the data frame. The values in the region code column can start with the following prefixes: NL (whole Netherlands), LD (landsdeel: country part), PV (province) and GM (gemeente: township). For this research we only need the records with a GM-code. The period column contains a combination of a year and a month number. This column should be separated in two columns: year and month. Furthermore, the data type of the deceased column should be changed to the right data type. Lastly, the column names of this data frame could be a bit more descriptive. These issues will be fixed during the data wrangling part."
   ]
  },
  {
   "cell_type": "code",
   "execution_count": 431,
   "id": "fe2ad10e",
   "metadata": {
    "scrolled": true
   },
   "outputs": [
    {
     "data": {
      "text/plain": [
       "ID                   0\n",
       "RegioS               0\n",
       "Perioden             0\n",
       "Overledenen_3    37744\n",
       "dtype: int64"
      ]
     },
     "execution_count": 431,
     "metadata": {},
     "output_type": "execute_result"
    }
   ],
   "source": [
    "mortality_df.isna().sum()"
   ]
  },
  {
   "cell_type": "markdown",
   "id": "a9293d14",
   "metadata": {},
   "source": [
    "It appears that there are 37744 entries that are missing the number of deceased people. For this research the choice has been made to leave out the townships with missing data, to get the most reliable results."
   ]
  },
  {
   "cell_type": "markdown",
   "id": "e16aed1f",
   "metadata": {},
   "source": [
    "### Weather stations coordinates"
   ]
  },
  {
   "cell_type": "code",
   "execution_count": 432,
   "id": "609dda86",
   "metadata": {
    "scrolled": false
   },
   "outputs": [
    {
     "data": {
      "text/html": [
       "<div>\n",
       "<style scoped>\n",
       "    .dataframe tbody tr th:only-of-type {\n",
       "        vertical-align: middle;\n",
       "    }\n",
       "\n",
       "    .dataframe tbody tr th {\n",
       "        vertical-align: top;\n",
       "    }\n",
       "\n",
       "    .dataframe thead th {\n",
       "        text-align: right;\n",
       "    }\n",
       "</style>\n",
       "<table border=\"1\" class=\"dataframe\">\n",
       "  <thead>\n",
       "    <tr style=\"text-align: right;\">\n",
       "      <th></th>\n",
       "      <th>Station</th>\n",
       "      <th>Lat</th>\n",
       "      <th>Lon</th>\n",
       "    </tr>\n",
       "  </thead>\n",
       "  <tbody>\n",
       "    <tr>\n",
       "      <th>0</th>\n",
       "      <td>235</td>\n",
       "      <td>52.927569</td>\n",
       "      <td>4.777465</td>\n",
       "    </tr>\n",
       "    <tr>\n",
       "      <th>1</th>\n",
       "      <td>270</td>\n",
       "      <td>53.222570</td>\n",
       "      <td>5.768726</td>\n",
       "    </tr>\n",
       "    <tr>\n",
       "      <th>2</th>\n",
       "      <td>280</td>\n",
       "      <td>53.125899</td>\n",
       "      <td>6.584522</td>\n",
       "    </tr>\n",
       "    <tr>\n",
       "      <th>3</th>\n",
       "      <td>290</td>\n",
       "      <td>52.273230</td>\n",
       "      <td>6.881168</td>\n",
       "    </tr>\n",
       "    <tr>\n",
       "      <th>4</th>\n",
       "      <td>240</td>\n",
       "      <td>52.314998</td>\n",
       "      <td>4.766546</td>\n",
       "    </tr>\n",
       "    <tr>\n",
       "      <th>5</th>\n",
       "      <td>260</td>\n",
       "      <td>52.103508</td>\n",
       "      <td>5.176900</td>\n",
       "    </tr>\n",
       "    <tr>\n",
       "      <th>6</th>\n",
       "      <td>344</td>\n",
       "      <td>51.924790</td>\n",
       "      <td>4.473661</td>\n",
       "    </tr>\n",
       "    <tr>\n",
       "      <th>7</th>\n",
       "      <td>310</td>\n",
       "      <td>51.452907</td>\n",
       "      <td>3.567217</td>\n",
       "    </tr>\n",
       "    <tr>\n",
       "      <th>8</th>\n",
       "      <td>370</td>\n",
       "      <td>51.501198</td>\n",
       "      <td>5.474265</td>\n",
       "    </tr>\n",
       "    <tr>\n",
       "      <th>9</th>\n",
       "      <td>380</td>\n",
       "      <td>50.905617</td>\n",
       "      <td>5.761880</td>\n",
       "    </tr>\n",
       "  </tbody>\n",
       "</table>\n",
       "</div>"
      ],
      "text/plain": [
       "   Station        Lat       Lon\n",
       "0      235  52.927569  4.777465\n",
       "1      270  53.222570  5.768726\n",
       "2      280  53.125899  6.584522\n",
       "3      290  52.273230  6.881168\n",
       "4      240  52.314998  4.766546\n",
       "5      260  52.103508  5.176900\n",
       "6      344  51.924790  4.473661\n",
       "7      310  51.452907  3.567217\n",
       "8      370  51.501198  5.474265\n",
       "9      380  50.905617  5.761880"
      ]
     },
     "execution_count": 432,
     "metadata": {},
     "output_type": "execute_result"
    }
   ],
   "source": [
    "ws_coordinates_df"
   ]
  },
  {
   "cell_type": "code",
   "execution_count": 433,
   "id": "bedee43f",
   "metadata": {},
   "outputs": [
    {
     "name": "stdout",
     "output_type": "stream",
     "text": [
      "<class 'pandas.core.frame.DataFrame'>\n",
      "RangeIndex: 10 entries, 0 to 9\n",
      "Data columns (total 3 columns):\n",
      " #   Column   Non-Null Count  Dtype  \n",
      "---  ------   --------------  -----  \n",
      " 0   Station  10 non-null     int64  \n",
      " 1   Lat      10 non-null     float64\n",
      " 2   Lon      10 non-null     float64\n",
      "dtypes: float64(2), int64(1)\n",
      "memory usage: 368.0 bytes\n"
     ]
    }
   ],
   "source": [
    "ws_coordinates_df.info()"
   ]
  },
  {
   "cell_type": "markdown",
   "id": "2927fbbe",
   "metadata": {},
   "source": [
    "The weather stations coordinates data frame contains the coordinates (lat/lon) of the 10 weather stations that are included in this research. There is no need to clean/modify this data frame."
   ]
  },
  {
   "cell_type": "markdown",
   "id": "02c40cd8",
   "metadata": {},
   "source": [
    "## 3. Wrangle data\n",
    "This section handles the wrangling of the data sets, as described in the data inspection part."
   ]
  },
  {
   "cell_type": "markdown",
   "id": "05b815fe",
   "metadata": {},
   "source": [
    "### Temperature"
   ]
  },
  {
   "cell_type": "code",
   "execution_count": 434,
   "id": "0c7f2a3a",
   "metadata": {},
   "outputs": [],
   "source": [
    "# Remove leading spaces in column names\n",
    "temperature_df.columns = temperature_df.columns.str.strip()\n",
    "\n",
    "# Drop YEAR column (year average that we don't need)\n",
    "temperature_df.drop('YEAR', axis=1, inplace=True)\n",
    "\n",
    "# Rename station and year column\n",
    "temperature_df.rename(columns={'STN': 'Station', 'YYYY': 'Year'}, inplace=True)\n",
    "\n",
    "# Select only the years from 2000\n",
    "temperature_df = temperature_df.loc[temperature_df['Year'] >= 2002]\n",
    "\n",
    "# Change data type of month columns to int\n",
    "temperature_df.loc[:, 'JAN':'DEC'] = temperature_df.loc[:, 'JAN':'DEC'].astype('int64')\n",
    "\n",
    "# Correct the temperatures by dividing them by 10\n",
    "temperature_df.loc[:, 'JAN':'DEC'] = temperature_df.loc[:, 'JAN':'DEC'].div(10)"
   ]
  },
  {
   "cell_type": "markdown",
   "id": "1c846ac9",
   "metadata": {},
   "source": [
    "### Townships"
   ]
  },
  {
   "cell_type": "code",
   "execution_count": 435,
   "id": "95fdebf6",
   "metadata": {},
   "outputs": [],
   "source": [
    "def calculate_centroid(coordinates):\n",
    "    '''Function that takes a set of coordinates of a polygon and calculates the center point'''\n",
    "    only_numbers = [re.sub(r'[^0-9.]', '', coord) for coord in coordinates][0:-1]\n",
    "    y = [float(only_numbers[i]) for i in range(0, len(only_numbers), 2)]\n",
    "    x = [float(only_numbers[i]) for i in range(1, len(only_numbers), 2)]\n",
    "    l = len(x)\n",
    "    return sum(x) / l, sum(y) / l"
   ]
  },
  {
   "cell_type": "code",
   "execution_count": 436,
   "id": "5d3e30e2",
   "metadata": {},
   "outputs": [],
   "source": [
    "# Rename columns\n",
    "townships_df.rename(columns={'GM_CODE': 'Code', 'GM_NAAM': 'Name'}, inplace=True)\n",
    "\n",
    "# Calculate center point of the polygon\n",
    "townships_df['geometry'] = townships_df['geometry'].astype(str).str.extract(r\"<coordinates>(.*)</coordinates>\")\n",
    "townships_df['geometry'] = townships_df['geometry'].str.replace('0.0 ', '', regex=True)\n",
    "townships_df['geometry'] = townships_df['geometry'].str.replace('0.0', '', regex=True)\n",
    "townships_df['geometry'] = townships_df['geometry'].str.split(',').apply(calculate_centroid)\n",
    "townships_df[['Latitude', 'Longitude']] = pd.DataFrame(townships_df['geometry'].tolist(), index=townships_df.index)\n",
    "\n",
    "# Drop geometry column, since it's not needed anymore\n",
    "townships_df.drop('geometry', axis=1, inplace=True)"
   ]
  },
  {
   "cell_type": "markdown",
   "id": "f068c0d1",
   "metadata": {},
   "source": [
    "### Mortality"
   ]
  },
  {
   "cell_type": "code",
   "execution_count": 439,
   "id": "5d28ecd7",
   "metadata": {
    "scrolled": false
   },
   "outputs": [],
   "source": [
    "# Set ID column as index\n",
    "mortality_df.set_index(\"ID\", inplace = True)\n",
    "\n",
    "# Drop all the entries with a period containing 'JJ'. These are year totals and are not used\n",
    "mortality_df = mortality_df[mortality_df['Perioden'].str.contains('JJ') == False]\n",
    "\n",
    "# Split period column into year and month column and drop old period column\n",
    "mortality_df[['Year','Month']] = mortality_df['Perioden'].str.split('MM',expand=True)\n",
    "mortality_df.drop('Perioden', axis=1, inplace=True)\n",
    "\n",
    "# Rename columns\n",
    "mortality_df.rename(columns={'RegioS': 'Code', 'Overledenen_3': 'Deceased'}, inplace=True)\n",
    "\n",
    "# Filter township records (codes starts with GM)\n",
    "mortality_df = mortality_df.loc[mortality_df['Code'].str[:2] == 'GM']\n",
    "\n",
    "# Remove all entries of townships that are missing data\n",
    "total_townships = mortality_df['Code'].nunique()\n",
    "townships_missing_data = mortality_df.loc[mortality_df['Deceased'].isna()]['Code'].unique()\n",
    "mortality_df.drop(mortality_df[mortality_df['Code'].isin(townships_missing_data)].index, inplace=True)\n",
    "\n",
    "# Correct data type of deceased column\n",
    "mortality_df[['Deceased', 'Year', 'Month']] = mortality_df[['Deceased', 'Year', 'Month']].apply(pd.to_numeric)"
   ]
  },
  {
   "cell_type": "code",
   "execution_count": 385,
   "id": "ce22a80c",
   "metadata": {},
   "outputs": [
    {
     "name": "stdout",
     "output_type": "stream",
     "text": [
      "From the total of 555 townships are 267 missing deceased data. This leaves a total of 288 townships that are included in this  research.\n"
     ]
    }
   ],
   "source": [
    "print(f'From the total of {total_townships} townships are {len(townships_missing_data)} missing deceased data. This leaves a total of {total_townships - len(townships_missing_data)} townships that are included in this  research.')"
   ]
  },
  {
   "cell_type": "markdown",
   "id": "3481abad",
   "metadata": {},
   "source": [
    "## 4. Merge dataframes"
   ]
  },
  {
   "cell_type": "code",
   "execution_count": 451,
   "id": "0ce91794",
   "metadata": {},
   "outputs": [
    {
     "data": {
      "text/html": [
       "<div>\n",
       "<style scoped>\n",
       "    .dataframe tbody tr th:only-of-type {\n",
       "        vertical-align: middle;\n",
       "    }\n",
       "\n",
       "    .dataframe tbody tr th {\n",
       "        vertical-align: top;\n",
       "    }\n",
       "\n",
       "    .dataframe thead th {\n",
       "        text-align: right;\n",
       "    }\n",
       "</style>\n",
       "<table border=\"1\" class=\"dataframe\">\n",
       "  <thead>\n",
       "    <tr style=\"text-align: right;\">\n",
       "      <th></th>\n",
       "      <th>Code</th>\n",
       "      <th>Deceased</th>\n",
       "      <th>Year</th>\n",
       "      <th>Month</th>\n",
       "      <th>Name</th>\n",
       "      <th>Latitude</th>\n",
       "      <th>Longitude</th>\n",
       "    </tr>\n",
       "  </thead>\n",
       "  <tbody>\n",
       "    <tr>\n",
       "      <th>0</th>\n",
       "      <td>GM1680</td>\n",
       "      <td>21</td>\n",
       "      <td>2002</td>\n",
       "      <td>1</td>\n",
       "      <td>Aa en Hunze</td>\n",
       "      <td>53.043303</td>\n",
       "      <td>6.716957</td>\n",
       "    </tr>\n",
       "    <tr>\n",
       "      <th>1</th>\n",
       "      <td>GM1680</td>\n",
       "      <td>16</td>\n",
       "      <td>2002</td>\n",
       "      <td>2</td>\n",
       "      <td>Aa en Hunze</td>\n",
       "      <td>53.043303</td>\n",
       "      <td>6.716957</td>\n",
       "    </tr>\n",
       "    <tr>\n",
       "      <th>2</th>\n",
       "      <td>GM1680</td>\n",
       "      <td>23</td>\n",
       "      <td>2002</td>\n",
       "      <td>3</td>\n",
       "      <td>Aa en Hunze</td>\n",
       "      <td>53.043303</td>\n",
       "      <td>6.716957</td>\n",
       "    </tr>\n",
       "    <tr>\n",
       "      <th>3</th>\n",
       "      <td>GM1680</td>\n",
       "      <td>13</td>\n",
       "      <td>2002</td>\n",
       "      <td>4</td>\n",
       "      <td>Aa en Hunze</td>\n",
       "      <td>53.043303</td>\n",
       "      <td>6.716957</td>\n",
       "    </tr>\n",
       "    <tr>\n",
       "      <th>4</th>\n",
       "      <td>GM1680</td>\n",
       "      <td>20</td>\n",
       "      <td>2002</td>\n",
       "      <td>5</td>\n",
       "      <td>Aa en Hunze</td>\n",
       "      <td>53.043303</td>\n",
       "      <td>6.716957</td>\n",
       "    </tr>\n",
       "  </tbody>\n",
       "</table>\n",
       "</div>"
      ],
      "text/plain": [
       "     Code  Deceased  Year  Month         Name   Latitude  Longitude\n",
       "0  GM1680        21  2002      1  Aa en Hunze  53.043303   6.716957\n",
       "1  GM1680        16  2002      2  Aa en Hunze  53.043303   6.716957\n",
       "2  GM1680        23  2002      3  Aa en Hunze  53.043303   6.716957\n",
       "3  GM1680        13  2002      4  Aa en Hunze  53.043303   6.716957\n",
       "4  GM1680        20  2002      5  Aa en Hunze  53.043303   6.716957"
      ]
     },
     "execution_count": 451,
     "metadata": {},
     "output_type": "execute_result"
    }
   ],
   "source": [
    "# Merge the mortality and townships data frames\n",
    "mortality_township_df = pd.merge(mortality_df, townships_df, how='inner', on='Code')\n",
    "\n",
    "mortality_township_df.head()"
   ]
  },
  {
   "cell_type": "markdown",
   "id": "5ce368b8",
   "metadata": {},
   "source": [
    "## Analyse data (create graphs, etc.)"
   ]
  },
  {
   "cell_type": "code",
   "execution_count": null,
   "id": "1b9eac31",
   "metadata": {},
   "outputs": [],
   "source": []
  },
  {
   "cell_type": "markdown",
   "id": "2793fbf3",
   "metadata": {},
   "source": [
    "## Statistics"
   ]
  },
  {
   "cell_type": "markdown",
   "id": "1141c49c",
   "metadata": {},
   "source": []
  }
 ],
 "metadata": {
  "kernelspec": {
   "display_name": "Python 3 (ipykernel)",
   "language": "python",
   "name": "python3"
  },
  "language_info": {
   "codemirror_mode": {
    "name": "ipython",
    "version": 3
   },
   "file_extension": ".py",
   "mimetype": "text/x-python",
   "name": "python",
   "nbconvert_exporter": "python",
   "pygments_lexer": "ipython3",
   "version": "3.8.0"
  }
 },
 "nbformat": 4,
 "nbformat_minor": 5
}
