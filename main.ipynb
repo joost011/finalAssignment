{
 "cells": [
  {
   "cell_type": "markdown",
   "id": "879f54bd",
   "metadata": {},
   "source": [
    "# Title"
   ]
  },
  {
   "cell_type": "markdown",
   "id": "e0bc403f",
   "metadata": {},
   "source": [
    "Intro / research explenation <br>\n",
    "Link to datasets"
   ]
  },
  {
   "cell_type": "code",
   "execution_count": 8,
   "id": "87f8b687",
   "metadata": {
    "scrolled": true
   },
   "outputs": [],
   "source": [
    "import yaml\n",
    "import pandas as pd"
   ]
  },
  {
   "cell_type": "markdown",
   "id": "01a38a95",
   "metadata": {},
   "source": [
    "## Load files and create data frames"
   ]
  },
  {
   "cell_type": "code",
   "execution_count": 63,
   "id": "cd3dfcbc",
   "metadata": {},
   "outputs": [],
   "source": [
    "with open(\"config.yaml\", \"r\") as stream:\n",
    "    config_values = yaml.safe_load(stream)\n",
    "    temperature_path = config_values['temperature_data_path']\n",
    "    townships_path = config_values['townships_data_path']\n",
    "    mortality_path = config_values['mortality_data_path']\n",
    "    \n",
    "# Create data frames\n",
    "temperature_df = pd.read_csv(temperature_path, skiprows=11)\n",
    "townships_df = pd.read_excel(townships_path)\n",
    "mortality_df = pd.read_csv(mortality_path, sep=';')"
   ]
  },
  {
   "cell_type": "markdown",
   "id": "77ddc933",
   "metadata": {},
   "source": [
    "## Inspect data\n",
    "This sections handles the data inspection of the data frames."
   ]
  },
  {
   "cell_type": "markdown",
   "id": "9842c8e0",
   "metadata": {},
   "source": [
    "### Temperature"
   ]
  },
  {
   "cell_type": "code",
   "execution_count": 64,
   "id": "c8d519a5",
   "metadata": {
    "scrolled": true
   },
   "outputs": [
    {
     "data": {
      "text/html": [
       "<div>\n",
       "<style scoped>\n",
       "    .dataframe tbody tr th:only-of-type {\n",
       "        vertical-align: middle;\n",
       "    }\n",
       "\n",
       "    .dataframe tbody tr th {\n",
       "        vertical-align: top;\n",
       "    }\n",
       "\n",
       "    .dataframe thead th {\n",
       "        text-align: right;\n",
       "    }\n",
       "</style>\n",
       "<table border=\"1\" class=\"dataframe\">\n",
       "  <thead>\n",
       "    <tr style=\"text-align: right;\">\n",
       "      <th></th>\n",
       "      <th>STN</th>\n",
       "      <th>YYYY</th>\n",
       "      <th>JAN</th>\n",
       "      <th>FEB</th>\n",
       "      <th>MAR</th>\n",
       "      <th>APR</th>\n",
       "      <th>MAY</th>\n",
       "      <th>JUN</th>\n",
       "      <th>JUL</th>\n",
       "      <th>AUG</th>\n",
       "      <th>SEP</th>\n",
       "      <th>OCT</th>\n",
       "      <th>NOV</th>\n",
       "      <th>DEC</th>\n",
       "      <th>YEAR</th>\n",
       "    </tr>\n",
       "  </thead>\n",
       "  <tbody>\n",
       "    <tr>\n",
       "      <th>0</th>\n",
       "      <td>235</td>\n",
       "      <td>1906</td>\n",
       "      <td>40</td>\n",
       "      <td>29</td>\n",
       "      <td>38</td>\n",
       "      <td>68</td>\n",
       "      <td>110</td>\n",
       "      <td>129</td>\n",
       "      <td>162</td>\n",
       "      <td>170</td>\n",
       "      <td>151</td>\n",
       "      <td>123</td>\n",
       "      <td>87</td>\n",
       "      <td>21</td>\n",
       "      <td>94</td>\n",
       "    </tr>\n",
       "    <tr>\n",
       "      <th>1</th>\n",
       "      <td>235</td>\n",
       "      <td>1907</td>\n",
       "      <td>26</td>\n",
       "      <td>8</td>\n",
       "      <td>45</td>\n",
       "      <td>73</td>\n",
       "      <td>116</td>\n",
       "      <td>132</td>\n",
       "      <td>137</td>\n",
       "      <td>150</td>\n",
       "      <td>140</td>\n",
       "      <td>115</td>\n",
       "      <td>69</td>\n",
       "      <td>42</td>\n",
       "      <td>88</td>\n",
       "    </tr>\n",
       "    <tr>\n",
       "      <th>2</th>\n",
       "      <td>235</td>\n",
       "      <td>1908</td>\n",
       "      <td>0</td>\n",
       "      <td>36</td>\n",
       "      <td>31</td>\n",
       "      <td>55</td>\n",
       "      <td>114</td>\n",
       "      <td>145</td>\n",
       "      <td>160</td>\n",
       "      <td>152</td>\n",
       "      <td>136</td>\n",
       "      <td>101</td>\n",
       "      <td>51</td>\n",
       "      <td>19</td>\n",
       "      <td>83</td>\n",
       "    </tr>\n",
       "    <tr>\n",
       "      <th>3</th>\n",
       "      <td>235</td>\n",
       "      <td>1909</td>\n",
       "      <td>17</td>\n",
       "      <td>6</td>\n",
       "      <td>16</td>\n",
       "      <td>71</td>\n",
       "      <td>101</td>\n",
       "      <td>120</td>\n",
       "      <td>139</td>\n",
       "      <td>150</td>\n",
       "      <td>129</td>\n",
       "      <td>112</td>\n",
       "      <td>60</td>\n",
       "      <td>33</td>\n",
       "      <td>80</td>\n",
       "    </tr>\n",
       "    <tr>\n",
       "      <th>4</th>\n",
       "      <td>235</td>\n",
       "      <td>1910</td>\n",
       "      <td>39</td>\n",
       "      <td>39</td>\n",
       "      <td>49</td>\n",
       "      <td>72</td>\n",
       "      <td>112</td>\n",
       "      <td>153</td>\n",
       "      <td>144</td>\n",
       "      <td>159</td>\n",
       "      <td>136</td>\n",
       "      <td>103</td>\n",
       "      <td>44</td>\n",
       "      <td>55</td>\n",
       "      <td>92</td>\n",
       "    </tr>\n",
       "  </tbody>\n",
       "</table>\n",
       "</div>"
      ],
      "text/plain": [
       "   STN  YYYY     JAN     FEB     MAR     APR     MAY     JUN     JUL     AUG  \\\n",
       "0  235  1906      40      29      38      68     110     129     162     170   \n",
       "1  235  1907      26       8      45      73     116     132     137     150   \n",
       "2  235  1908       0      36      31      55     114     145     160     152   \n",
       "3  235  1909      17       6      16      71     101     120     139     150   \n",
       "4  235  1910      39      39      49      72     112     153     144     159   \n",
       "\n",
       "      SEP     OCT     NOV     DEC    YEAR  \n",
       "0     151     123      87      21      94  \n",
       "1     140     115      69      42      88  \n",
       "2     136     101      51      19      83  \n",
       "3     129     112      60      33      80  \n",
       "4     136     103      44      55      92  "
      ]
     },
     "execution_count": 64,
     "metadata": {},
     "output_type": "execute_result"
    }
   ],
   "source": [
    "temperature_df.head()"
   ]
  },
  {
   "cell_type": "code",
   "execution_count": 66,
   "id": "1f85c096",
   "metadata": {},
   "outputs": [
    {
     "name": "stdout",
     "output_type": "stream",
     "text": [
      "<class 'pandas.core.frame.DataFrame'>\n",
      "RangeIndex: 944 entries, 0 to 943\n",
      "Data columns (total 15 columns):\n",
      " #   Column  Non-Null Count  Dtype \n",
      "---  ------  --------------  ----- \n",
      " 0   STN     944 non-null    int64 \n",
      " 1   YYYY    944 non-null    int64 \n",
      " 2      JAN  944 non-null    object\n",
      " 3      FEB  944 non-null    object\n",
      " 4      MAR  944 non-null    object\n",
      " 5      APR  944 non-null    object\n",
      " 6      MAY  944 non-null    object\n",
      " 7      JUN  944 non-null    object\n",
      " 8      JUL  944 non-null    object\n",
      " 9      AUG  944 non-null    int64 \n",
      " 10     SEP  944 non-null    object\n",
      " 11     OCT  944 non-null    object\n",
      " 12     NOV  944 non-null    object\n",
      " 13     DEC  944 non-null    object\n",
      " 14    YEAR  944 non-null    object\n",
      "dtypes: int64(3), object(12)\n",
      "memory usage: 110.8+ KB\n"
     ]
    }
   ],
   "source": [
    "temperature_df.info()"
   ]
  },
  {
   "cell_type": "markdown",
   "id": "076864f9",
   "metadata": {},
   "source": [
    "The temperature data frame has a total of 944 entries. There are 15 columns. 12 of these columns are month columns (Jan - Dec). The remaining three columns are the station number, the year, and the year average. To get the real temperatures, the values need to be divided by 10. What stands out is that, regarding the temperature columns, only August has the correct data type. Also, the column names of the station number and the year could be a bit more descriptive, whereas the name of the year average column (which we don't need) is a little misleading. These issues will be fixed during the data wrangling."
   ]
  },
  {
   "cell_type": "code",
   "execution_count": 65,
   "id": "65dc0803",
   "metadata": {},
   "outputs": [
    {
     "data": {
      "text/plain": [
       "STN       0\n",
       "YYYY      0\n",
       "   JAN    0\n",
       "   FEB    0\n",
       "   MAR    0\n",
       "   APR    0\n",
       "   MAY    0\n",
       "   JUN    0\n",
       "   JUL    0\n",
       "   AUG    0\n",
       "   SEP    0\n",
       "   OCT    0\n",
       "   NOV    0\n",
       "   DEC    0\n",
       "  YEAR    0\n",
       "dtype: int64"
      ]
     },
     "execution_count": 65,
     "metadata": {},
     "output_type": "execute_result"
    }
   ],
   "source": [
    "temperature_df.isna().sum()"
   ]
  },
  {
   "cell_type": "markdown",
   "id": "a5355548",
   "metadata": {},
   "source": [
    "The temperature data frame is not missing any data."
   ]
  },
  {
   "cell_type": "markdown",
   "id": "3be567b1",
   "metadata": {},
   "source": [
    "### Townships"
   ]
  },
  {
   "cell_type": "code",
   "execution_count": 58,
   "id": "f3f193e0",
   "metadata": {},
   "outputs": [
    {
     "data": {
      "text/html": [
       "<div>\n",
       "<style scoped>\n",
       "    .dataframe tbody tr th:only-of-type {\n",
       "        vertical-align: middle;\n",
       "    }\n",
       "\n",
       "    .dataframe tbody tr th {\n",
       "        vertical-align: top;\n",
       "    }\n",
       "\n",
       "    .dataframe thead th {\n",
       "        text-align: right;\n",
       "    }\n",
       "</style>\n",
       "<table border=\"1\" class=\"dataframe\">\n",
       "  <thead>\n",
       "    <tr style=\"text-align: right;\">\n",
       "      <th></th>\n",
       "      <th>GM_CODE</th>\n",
       "      <th>GM_NAAM</th>\n",
       "      <th>geometry</th>\n",
       "    </tr>\n",
       "  </thead>\n",
       "  <tbody>\n",
       "    <tr>\n",
       "      <th>0</th>\n",
       "      <td>GM0003</td>\n",
       "      <td>Appingedam</td>\n",
       "      <td>&lt;Polygon&gt;&lt;outerBoundaryIs&gt;&lt;LinearRing&gt;&lt;coordin...</td>\n",
       "    </tr>\n",
       "    <tr>\n",
       "      <th>1</th>\n",
       "      <td>GM0005</td>\n",
       "      <td>Bedum</td>\n",
       "      <td>&lt;Polygon&gt;&lt;outerBoundaryIs&gt;&lt;LinearRing&gt;&lt;coordin...</td>\n",
       "    </tr>\n",
       "    <tr>\n",
       "      <th>2</th>\n",
       "      <td>GM0007</td>\n",
       "      <td>Bellingwedde</td>\n",
       "      <td>&lt;Polygon&gt;&lt;outerBoundaryIs&gt;&lt;LinearRing&gt;&lt;coordin...</td>\n",
       "    </tr>\n",
       "    <tr>\n",
       "      <th>3</th>\n",
       "      <td>GM0009</td>\n",
       "      <td>Ten Boer</td>\n",
       "      <td>&lt;Polygon&gt;&lt;outerBoundaryIs&gt;&lt;LinearRing&gt;&lt;coordin...</td>\n",
       "    </tr>\n",
       "    <tr>\n",
       "      <th>4</th>\n",
       "      <td>GM0010</td>\n",
       "      <td>Delfzijl</td>\n",
       "      <td>&lt;Polygon&gt;&lt;outerBoundaryIs&gt;&lt;LinearRing&gt;&lt;coordin...</td>\n",
       "    </tr>\n",
       "  </tbody>\n",
       "</table>\n",
       "</div>"
      ],
      "text/plain": [
       "  GM_CODE       GM_NAAM                                           geometry\n",
       "0  GM0003    Appingedam  <Polygon><outerBoundaryIs><LinearRing><coordin...\n",
       "1  GM0005         Bedum  <Polygon><outerBoundaryIs><LinearRing><coordin...\n",
       "2  GM0007  Bellingwedde  <Polygon><outerBoundaryIs><LinearRing><coordin...\n",
       "3  GM0009      Ten Boer  <Polygon><outerBoundaryIs><LinearRing><coordin...\n",
       "4  GM0010      Delfzijl  <Polygon><outerBoundaryIs><LinearRing><coordin..."
      ]
     },
     "execution_count": 58,
     "metadata": {},
     "output_type": "execute_result"
    }
   ],
   "source": [
    "townships_df.head()"
   ]
  },
  {
   "cell_type": "code",
   "execution_count": 60,
   "id": "2942f9d5",
   "metadata": {
    "scrolled": false
   },
   "outputs": [
    {
     "name": "stdout",
     "output_type": "stream",
     "text": [
      "<class 'pandas.core.frame.DataFrame'>\n",
      "RangeIndex: 431 entries, 0 to 430\n",
      "Data columns (total 3 columns):\n",
      " #   Column    Non-Null Count  Dtype \n",
      "---  ------    --------------  ----- \n",
      " 0   GM_CODE   431 non-null    object\n",
      " 1   GM_NAAM   431 non-null    object\n",
      " 2   geometry  431 non-null    object\n",
      "dtypes: object(3)\n",
      "memory usage: 10.2+ KB\n"
     ]
    }
   ],
   "source": [
    "townships_df.info()"
   ]
  },
  {
   "cell_type": "markdown",
   "id": "fb18ac22",
   "metadata": {},
   "source": [
    "The township data frame exists of 431 entries. There are only has 3 columns: the township code (which are the same as the codes in the mortality data), the township name and the geometry. The data types of the columns are good as they are. The geometry column contains data to create a polygon. However, in this research we don't need a complete polygon, but we need the center point (lat/lon) of the polygons. Furthermore, the column names could be a bit more descriptive. These issues will be fixed during the data wrangling part."
   ]
  },
  {
   "cell_type": "code",
   "execution_count": 67,
   "id": "f22e24e1",
   "metadata": {
    "scrolled": true
   },
   "outputs": [
    {
     "data": {
      "text/plain": [
       "GM_CODE     0\n",
       "GM_NAAM     0\n",
       "geometry    0\n",
       "dtype: int64"
      ]
     },
     "execution_count": 67,
     "metadata": {},
     "output_type": "execute_result"
    }
   ],
   "source": [
    "townships_df.isna().sum()"
   ]
  },
  {
   "cell_type": "markdown",
   "id": "6b25044b",
   "metadata": {},
   "source": [
    "The township data frame is not missing any data."
   ]
  },
  {
   "cell_type": "markdown",
   "id": "66ce2693",
   "metadata": {},
   "source": [
    "### Mortality"
   ]
  },
  {
   "cell_type": "code",
   "execution_count": 70,
   "id": "0a7a9e02",
   "metadata": {
    "scrolled": true
   },
   "outputs": [
    {
     "data": {
      "text/html": [
       "<div>\n",
       "<style scoped>\n",
       "    .dataframe tbody tr th:only-of-type {\n",
       "        vertical-align: middle;\n",
       "    }\n",
       "\n",
       "    .dataframe tbody tr th {\n",
       "        vertical-align: top;\n",
       "    }\n",
       "\n",
       "    .dataframe thead th {\n",
       "        text-align: right;\n",
       "    }\n",
       "</style>\n",
       "<table border=\"1\" class=\"dataframe\">\n",
       "  <thead>\n",
       "    <tr style=\"text-align: right;\">\n",
       "      <th></th>\n",
       "      <th>ID</th>\n",
       "      <th>RegioS</th>\n",
       "      <th>Perioden</th>\n",
       "      <th>Overledenen_3</th>\n",
       "    </tr>\n",
       "  </thead>\n",
       "  <tbody>\n",
       "    <tr>\n",
       "      <th>0</th>\n",
       "      <td>0</td>\n",
       "      <td>NL01</td>\n",
       "      <td>2002MM01</td>\n",
       "      <td>13469</td>\n",
       "    </tr>\n",
       "    <tr>\n",
       "      <th>1</th>\n",
       "      <td>1</td>\n",
       "      <td>NL01</td>\n",
       "      <td>2002MM02</td>\n",
       "      <td>11735</td>\n",
       "    </tr>\n",
       "    <tr>\n",
       "      <th>2</th>\n",
       "      <td>2</td>\n",
       "      <td>NL01</td>\n",
       "      <td>2002MM03</td>\n",
       "      <td>13281</td>\n",
       "    </tr>\n",
       "    <tr>\n",
       "      <th>3</th>\n",
       "      <td>3</td>\n",
       "      <td>NL01</td>\n",
       "      <td>2002MM04</td>\n",
       "      <td>11968</td>\n",
       "    </tr>\n",
       "    <tr>\n",
       "      <th>4</th>\n",
       "      <td>4</td>\n",
       "      <td>NL01</td>\n",
       "      <td>2002MM05</td>\n",
       "      <td>11623</td>\n",
       "    </tr>\n",
       "  </tbody>\n",
       "</table>\n",
       "</div>"
      ],
      "text/plain": [
       "   ID  RegioS  Perioden Overledenen_3\n",
       "0   0  NL01    2002MM01         13469\n",
       "1   1  NL01    2002MM02         11735\n",
       "2   2  NL01    2002MM03         13281\n",
       "3   3  NL01    2002MM04         11968\n",
       "4   4  NL01    2002MM05         11623"
      ]
     },
     "execution_count": 70,
     "metadata": {},
     "output_type": "execute_result"
    }
   ],
   "source": [
    "mortality_df.head()"
   ]
  },
  {
   "cell_type": "code",
   "execution_count": 72,
   "id": "efe7677c",
   "metadata": {
    "scrolled": true
   },
   "outputs": [
    {
     "name": "stdout",
     "output_type": "stream",
     "text": [
      "<class 'pandas.core.frame.DataFrame'>\n",
      "RangeIndex: 167076 entries, 0 to 167075\n",
      "Data columns (total 4 columns):\n",
      " #   Column         Non-Null Count   Dtype \n",
      "---  ------         --------------   ----- \n",
      " 0   ID             167076 non-null  int64 \n",
      " 1   RegioS         167076 non-null  object\n",
      " 2   Perioden       167076 non-null  object\n",
      " 3   Overledenen_3  129332 non-null  object\n",
      "dtypes: int64(1), object(3)\n",
      "memory usage: 5.1+ MB\n"
     ]
    }
   ],
   "source": [
    "mortality_df.info()"
   ]
  },
  {
   "cell_type": "markdown",
   "id": "1e4018cb",
   "metadata": {},
   "source": [
    "The mortality data frame exists of 167076 entries. There are 4 columns: an ID, a region code, a period and the number of deceased people. The ID column should be set as actual ID of the data frame. The values in the region code column can start with the following prefixes: NL (whole Netherlands), LD (landsdeel: country part), PV (province) and GM (gemeente: township). For this research we only need the records with a GM-code. The period column contains a combination of a year and a month number. This column should be separated in two columns: year and month. Furthermore, the data type of the deceased column should be changed to the right data type. Lastly, the column names of this data frame could be a bit more descriptive. These issues will be fixed during the data wrangling part."
   ]
  },
  {
   "cell_type": "code",
   "execution_count": 73,
   "id": "6ab0205a",
   "metadata": {
    "scrolled": true
   },
   "outputs": [
    {
     "data": {
      "text/plain": [
       "ID                   0\n",
       "RegioS               0\n",
       "Perioden             0\n",
       "Overledenen_3    37744\n",
       "dtype: int64"
      ]
     },
     "execution_count": 73,
     "metadata": {},
     "output_type": "execute_result"
    }
   ],
   "source": [
    "mortality_df.isna().sum()"
   ]
  },
  {
   "cell_type": "markdown",
   "id": "3145d21a",
   "metadata": {},
   "source": [
    "It appears that there are 37744 entries that are missing the number of deceased people. For this research the choice has been made to leave out the townships with missing data, to get the most reliable results."
   ]
  },
  {
   "cell_type": "markdown",
   "id": "354bac85",
   "metadata": {},
   "source": [
    "## Wrangle data"
   ]
  },
  {
   "cell_type": "code",
   "execution_count": null,
   "id": "a23beff7",
   "metadata": {},
   "outputs": [],
   "source": []
  },
  {
   "cell_type": "markdown",
   "id": "bf303196",
   "metadata": {},
   "source": [
    "## Merge dataframes"
   ]
  },
  {
   "cell_type": "code",
   "execution_count": null,
   "id": "27cfd5da",
   "metadata": {},
   "outputs": [],
   "source": []
  },
  {
   "cell_type": "markdown",
   "id": "ad7f071b",
   "metadata": {},
   "source": [
    "## Analyse data (create graphs, etc.)"
   ]
  },
  {
   "cell_type": "code",
   "execution_count": null,
   "id": "6a834a32",
   "metadata": {},
   "outputs": [],
   "source": []
  },
  {
   "cell_type": "markdown",
   "id": "c866212b",
   "metadata": {},
   "source": [
    "## Statistics"
   ]
  },
  {
   "cell_type": "markdown",
   "id": "04235c99",
   "metadata": {},
   "source": []
  }
 ],
 "metadata": {
  "kernelspec": {
   "display_name": "Python 3 (ipykernel)",
   "language": "python",
   "name": "python3"
  },
  "language_info": {
   "codemirror_mode": {
    "name": "ipython",
    "version": 3
   },
   "file_extension": ".py",
   "mimetype": "text/x-python",
   "name": "python",
   "nbconvert_exporter": "python",
   "pygments_lexer": "ipython3",
   "version": "3.8.0"
  }
 },
 "nbformat": 4,
 "nbformat_minor": 5
}
